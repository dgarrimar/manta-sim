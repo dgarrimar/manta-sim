{
 "cells": [
  {
   "cell_type": "markdown",
   "metadata": {},
   "source": [
    "# Simulate genotype data\n",
    "\n",
    "Following the work of [P. Casale](https://www.ebi.ac.uk/sites/ebi.ac.uk/files/shared/documents/phdtheses/Casale-Thesis.pdf), we simulated cohorts with different sample sizes based on genotype data from the 1000 Genomes Project (Phase 3).\n",
    "\n",
    "1. for each newly synthesised individual we randomly select A ancestors\n",
    "2. the new genotype is built as a mosaic of blocks of 1,000 variants, where each block is copied from the corresponding block in one of the A ancestors (selected at random)\n",
    "\n",
    "## Genotype data for runtime experiments\n",
    "\n",
    "For runtime experiments, we generated cohorts with 500, 1K, 2K, 5K, 10K, 20K, 50K, 100K, 200K and 500K individuals. We first assigned each individual to one of the 26 populations in the 1000 Genomes Project and then we sampled A = 10 ancestors from that population, generating cohorts of unrelated individuals and preserving the population structure in the original data.\n",
    "\n",
    "## Genotype data for calibration experiments\n",
    "\n",
    "For calibration experiments, we generated three cohorts with 1,000 individuals and different genetic structures, considering only European populations (CEU, FIN, GBR, IBS and TSI).\n",
    "\n",
    "- Population Structure (*simPopStructure*). \n",
    "    We simulated population structure by (i) assigning each newly synthesised individual to one of the five European populations (CEU, FIN, GBR, IBS and TSI) and (ii) considering A = 10 ancestors from that population.\n",
    "\n",
    "- Unrelated individuals (*simUnrelated*).  \n",
    "    For each synthesised individual, we considered A = 10 ancestors, which were randomly sampled from the whole set of Europeans.\n",
    "\n",
    "- Related Individuals (*simRelated*). \n",
    "    For each synthesised individual, we considered A = 2 ancestors, again sampled from the whole set of Europeans."
   ]
  },
  {
   "cell_type": "code",
   "execution_count": null,
   "metadata": {},
   "outputs": [],
   "source": [
    "import pandas as pd\n",
    "from random import randint, seed\n",
    "import gzip"
   ]
  },
  {
   "cell_type": "code",
   "execution_count": null,
   "metadata": {},
   "outputs": [],
   "source": [
    "# Read metadata\n",
    "df = pd.read_csv('../data/metadata.tsv', sep = '\\t')\n",
    "df = pd.DataFrame(df)\n",
    "\n",
    "# Remove NaN columns\n",
    "df = df.dropna(axis = 1)\n",
    "\n",
    "df.head()"
   ]
  },
  {
   "cell_type": "markdown",
   "metadata": {},
   "source": [
    "### *simUnrelated*"
   ]
  },
  {
   "cell_type": "code",
   "execution_count": null,
   "metadata": {},
   "outputs": [],
   "source": [
    "# Define simulation parameters\n",
    "A = 10\n",
    "n = 10\n",
    "blocksize = 1000\n",
    "eur = True\n",
    "popstr = False\n",
    "\n",
    "ancestors = dict()\n",
    "\n",
    "seed(123)  \n",
    "if eur:\n",
    "    if popstr:\n",
    "        pops = list(df.loc[df['super_pop']=='EUR', 'pop'].unique())\n",
    "        for i in range(n):\n",
    "            pop = pops[randint(0, len(pops)-1)]\n",
    "            inds = list(df.loc[df['pop'] == pop, 'sample'])\n",
    "            ancestors[i] = [inds[randint(0, len(inds)-1)] for i in range(A)]\n",
    "    else:\n",
    "        inds = list(df.loc[df['super_pop'] == 'EUR', 'sample'])\n",
    "        for i in range(n):\n",
    "            ancestors[i] = [inds[randint(0, len(inds)-1)] for i in range(A)]\n",
    "else:\n",
    "    if popstr:\n",
    "        pops = list(df['pop'].unique())\n",
    "        for i in range(n):\n",
    "            pop = pops[randint(0, len(pops)-1)]\n",
    "            inds = list(df.loc[df['pop'] == pop, 'sample'])\n",
    "            ancestors[i] = [inds[randint(0, len(inds)-1)] for i in range(A)]\n",
    "    else:\n",
    "        inds = list(df['sample'])\n",
    "        for i in range(n):\n",
    "            ancestors[i] = [inds[randint(0, len(inds)-1)] for i in range(A)]\n"
   ]
  },
  {
   "cell_type": "code",
   "execution_count": null,
   "metadata": {},
   "outputs": [],
   "source": [
    "def formatGT(genotypes):\n",
    "    for i, gt in enumerate(genotypes):\n",
    "        if (gt == '0|0'):\n",
    "            genotypes[i] = \"0\"\n",
    "        elif(gt == '1|0' or genotypes[i] == '0|1'):\n",
    "            genotypes[i] = \"1\"\n",
    "        elif(gt == '1|1'):\n",
    "            genotypes[i] = \"2\"\n",
    "    return(genotypes)\n",
    "    "
   ]
  },
  {
   "cell_type": "code",
   "execution_count": null,
   "metadata": {},
   "outputs": [],
   "source": [
    "%%timeit -n 1 -r 1\n",
    "# import cProfile, pstats\n",
    "# pr = cProfile.Profile()\n",
    "# pr.enable()\n",
    "      \n",
    "fh = gzip.open('../data/genotypes.vcf.gz', 'rt')\n",
    "for line in fh:\n",
    "        if line.startswith('##'):\n",
    "            # skip comment lines\n",
    "            continue\n",
    "        elif line.startswith('#CHROM'):\n",
    "            # read header\n",
    "            header = line.strip().split(\"\\t\")\n",
    "            count = 0\n",
    "            # print ('\\t'.join(header[0:9]) + '\\t' + '\\t'.join(['sim' + str(i) for i in range(n)]), '\\n')\n",
    "        else:\n",
    "            # For every block variants, change ancestors\n",
    "            if (count % blocksize == 0):\n",
    "                ancestors_block_idx = [header.index(ancestors[i][randint(0, A-1)]) for i in range(n)]\n",
    "            line = line.strip().split('\\t')\n",
    "            gt = [line[idx] for idx in ancestors_block_idx]\n",
    "            # Obtain genotypes corresponding to the selected ancestors\n",
    "            # print('\\t'.join(line[0:9]) + '\\t' + '\\t'.join(gt) + '\\n')\n",
    "            # print('\\t'.join(gt))\n",
    "            if (line[2] == \".\"):\n",
    "                print(line[2])\n",
    "                snp = line[0] + \"_\" + line[1]\n",
    "            else:\n",
    "                snp = line[2]\n",
    "            print(line[2] + \", \" + \", \".join(line[3:5]) + \", \" + \", \".join(formatGT(gt)))\n",
    "               \n",
    "            count += 1\n",
    "            if(count == 100): break\n",
    "\n",
    "# pr.disable()\n",
    "# pr.print_stats()"
   ]
  }
 ],
 "metadata": {
  "kernelspec": {
   "display_name": "Python 3",
   "language": "python",
   "name": "python3"
  },
  "language_info": {
   "codemirror_mode": {
    "name": "ipython",
    "version": 3
   },
   "file_extension": ".py",
   "mimetype": "text/x-python",
   "name": "python",
   "nbconvert_exporter": "python",
   "pygments_lexer": "ipython3",
   "version": "3.5.6"
  }
 },
 "nbformat": 4,
 "nbformat_minor": 2
}
