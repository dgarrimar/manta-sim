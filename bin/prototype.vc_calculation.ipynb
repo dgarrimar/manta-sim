{
 "cells": [
  {
   "cell_type": "code",
   "execution_count": 8,
   "metadata": {},
   "outputs": [],
   "source": [
    "# Import modules\n",
    "import sys\n",
    "from argparse import ArgumentParser\n",
    "from pylmm import input\n",
    "from pylmm.lmm import LMM\n",
    "from scipy import linalg\n",
    "import numpy as np\n",
    "import time"
   ]
  },
  {
   "cell_type": "code",
   "execution_count": 2,
   "metadata": {},
   "outputs": [],
   "source": [
    "def define_options():\n",
    "    # Argument parsing\n",
    "    parser = ArgumentParser(description = 'Calculate variance components')\n",
    "    parser.add_argument(\"-b\", \"--bfile\", type = str,\n",
    "        help = \"PLINK binary bed file prefix\")\n",
    "    parser.add_argument(\"-p\", \"--pheno\", type = str,\n",
    "        help = \"Phenotype file in PLINK format: FID, IID, [PHENOTYPES]\")   \n",
    "    parser.add_argument(\"-k\", \"--kinship\", type = str,\n",
    "        help = \"Kinship matrix (n x n plain text file)\") \n",
    "    parser.add_argument(\"-c\", \"--covfile\", type = str,\n",
    "        help = \"Covariate file in PLINK format: FID, IID, [COVARIATES]\")\n",
    "    parser.add_argument(\"-o\", \"--outfile\", type = str,\n",
    "        help = \"Output file\") \n",
    "    parser.add_argument(\"-v\", \"--verbose\", action = \"store_true\",\n",
    "        help = \"Print extra info [default=%(default)s]\", default = False) \n",
    "        ## Other options\n",
    "        # remove missing genotypes\n",
    "        # no mean\n",
    "    return parser\n",
    "    \n",
    "parser = define_options()\n",
    "if len(sys.argv)==1:\n",
    "    parser.print_help()\n",
    "    sys.exit(1)\n",
    "#args = parser.parse_args()"
   ]
  },
  {
   "cell_type": "code",
   "execution_count": 3,
   "metadata": {},
   "outputs": [],
   "source": [
    "bfile = \"/users/rg/dgarrido/tmp/46a85af2c8796fd60a4cf493cc84f7/geno\"\n",
    "pheno = \"/users/rg/dgarrido/tmp/46a85af2c8796fd60a4cf493cc84f7/newpheno.txt\"\n",
    "kinship = \"/users/rg/dgarrido/tmp/46a85af2c8796fd60a4cf493cc84f7/real1000g.sXX.txt\"\n",
    "outfile = \"/users/rg/dgarrido/tmp/46a85af2c8796fd60a4cf493cc84f7/lala.tsv\"\n",
    "covfile = None # \"/users/rg/dgarrido/tmp/46a85af2c8796fd60a4cf493cc84f7/covariates.txt\"\n",
    "verbose = True"
   ]
  },
  {
   "cell_type": "code",
   "execution_count": 4,
   "metadata": {},
   "outputs": [
    {
     "name": "stdout",
     "output_type": "stream",
     "text": [
      "2504\n"
     ]
    },
    {
     "name": "stderr",
     "output_type": "stream",
     "text": [
      "Reading input files...\n",
      "Read 2504 individuals from /users/rg/dgarrido/tmp/46a85af2c8796fd60a4cf493cc84f7/geno.fam\n"
     ]
    }
   ],
   "source": [
    "if verbose: sys.stderr.write(\"Reading input files...\\n\")\n",
    "# Read PLINK input and covariate file\n",
    "IN = input.plink(bfile, type = 'b', phenoFile = pheno)\n",
    "\n",
    "if covfile: \n",
    "    C = IN.getCovariates(covfile) # Read covariate file, write into input.plink\n",
    "    X0 = np.hstack([np.ones((IN.phenos.shape[0], 1)), C]) # Added global mean \n",
    "    if np.isnan(X0).sum(): \n",
    "        parser.error(\"The covariate file should not contain missing values.\")\n",
    "    if verbose: sys.stderr.write(\"Read %d covariate(s) from the covariate file\\n\" % (C.shape[1]))\n",
    "else: \n",
    "    X0 = np.ones((IN.phenos.shape[0], 1)) \n",
    "    \n",
    "if np.isnan(IN.phenos).sum():\n",
    "    parser.error(\"The phenotype file should not contain missing values.\")"
   ]
  },
  {
   "cell_type": "code",
   "execution_count": 5,
   "metadata": {},
   "outputs": [
    {
     "name": "stderr",
     "output_type": "stream",
     "text": [
      "Read the 2504 x 2504 kinship matrix in 3.737s\n"
     ]
    }
   ],
   "source": [
    "# Read Kinship: this method seems to be the fastest and works if you already know the size of the matrix\n",
    "begin = time.time()\n",
    "if kinship[-3:] == '.gz':\n",
    "    import gzip\n",
    "    f = gzip.open(kinship,'r')\n",
    "    F = f.read() # Might exhaust mem if the file is very large\n",
    "    K = np.fromstring(F, sep = ' ') # Assume space separated\n",
    "    f.close()\n",
    "else: \n",
    "    K = np.fromfile(open(kinship, 'r'), sep = ' ')\n",
    "    K.resize((len(IN.indivs), len(IN.indivs)))\n",
    "end = time.time()\n",
    "if verbose: sys.stderr.write(\"Read the %d x %d kinship matrix in %0.3fs\\n\" % (K.shape[0], K.shape[1], end-begin))"
   ]
  },
  {
   "cell_type": "code",
   "execution_count": 11,
   "metadata": {},
   "outputs": [
    {
     "name": "stderr",
     "output_type": "stream",
     "text": [
      "Read 10 phenotype(s)\n",
      "Kinship eigendecomposition time: 5.207s\n",
      "Phenotype number: 1 \n",
      "Cleaning 1 eigenvalues\n",
      "Computing fit for null model\n",
      "\t heritability=0.06457, varG=0.04489, varE=0.65028\n",
      "Phenotype number: 2 \n",
      "Computing fit for null model\n",
      "\t heritability=0.04586, varG=0.04405, varE=0.91650\n",
      "Phenotype number: 3 \n",
      "Computing fit for null model\n",
      "\t heritability=0.10655, varG=0.07213, varE=0.60480\n",
      "Phenotype number: 4 \n",
      "Computing fit for null model\n",
      "\t heritability=0.03673, varG=0.06461, varE=1.69472\n",
      "Phenotype number: 5 \n",
      "Computing fit for null model\n",
      "\t heritability=0.18533, varG=0.20033, varE=0.88057\n",
      "Phenotype number: 6 \n",
      "Computing fit for null model\n",
      "\t heritability=0.18787, varG=0.21990, varE=0.95062\n",
      "Phenotype number: 7 \n",
      "Computing fit for null model\n",
      "\t heritability=0.15992, varG=0.07775, varE=0.40843\n",
      "Phenotype number: 8 \n",
      "Computing fit for null model\n",
      "\t heritability=0.13878, varG=0.22391, varE=1.38944\n",
      "Phenotype number: 9 \n",
      "Computing fit for null model\n",
      "\t heritability=0.02099, varG=0.01315, varE=0.61352\n",
      "Phenotype number: 10 \n",
      "Computing fit for null model\n",
      "\t heritability=0.06669, varG=0.06694, varE=0.93686\n"
     ]
    }
   ],
   "source": [
    "# Compute variance components\n",
    "phenoNum = IN.phenos.shape[1]\n",
    "sys.stderr.write(\"Read %d phenotype(s)\\n\" % phenoNum)\n",
    "out = open(outfile, 'w')\n",
    "begin = time.time()\n",
    "Kva, Kve = linalg.eigh(K)\n",
    "end = time.time()\n",
    "if verbose: sys.stderr.write(\"Kinship eigendecomposition time: %0.3fs\\n\" % (end - begin))\n",
    "for i in range(0, phenoNum):\n",
    "    sys.stderr.write(\"Phenotype number: %d \\n\" % (i+1))\n",
    "    Y = IN.phenos[:,i]\n",
    "    L = LMM(Y, K, Kva, Kve, X0, verbose = verbose)\n",
    "    if verbose: sys.stderr.write(\"Computing fit for null model\\n\")\n",
    "    L.fit()\n",
    "    if verbose: \n",
    "        sys.stderr.write(\"\\t heritability=%0.5f, varG=%0.5f, varE=%0.5f\\n\" % (L.optH,L.optH*L.optSigma, L.optSigma*(1-L.optH)))\n",
    "        out.write(\"%0.5f\\t%0.5f\\n\" % (L.optH*L.optSigma, L.optSigma*(1-L.optH)))       \n",
    "out.close()        "
   ]
  }
 ],
 "metadata": {
  "kernelspec": {
   "display_name": "Python 2",
   "language": "python",
   "name": "python2"
  },
  "language_info": {
   "codemirror_mode": {
    "name": "ipython",
    "version": 2
   },
   "file_extension": ".py",
   "mimetype": "text/x-python",
   "name": "python",
   "nbconvert_exporter": "python",
   "pygments_lexer": "ipython2",
   "version": "2.7.18"
  }
 },
 "nbformat": 4,
 "nbformat_minor": 2
}
